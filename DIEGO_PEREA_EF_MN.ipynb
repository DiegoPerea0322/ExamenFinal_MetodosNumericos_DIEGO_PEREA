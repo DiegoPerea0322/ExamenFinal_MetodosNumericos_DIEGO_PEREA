{
 "cells": [
  {
   "cell_type": "code",
   "execution_count": 4,
   "id": "e72aaea5",
   "metadata": {},
   "outputs": [
    {
     "name": "stdout",
     "output_type": "stream",
     "text": [
      "First Guess: 0\n",
      "Second Guess: 1\n",
      "error: 0.001\n",
      "\n",
      "\n",
      "***Implemetacion Biseccion***\n",
      "Iteration-1, x2=0.500000 and f(x2)= 0.625000\n",
      "Iteration-2, x2=0.750000 and f(x2)= 0.984375\n",
      "Iteration-3, x2=0.625000 and f(x2)= 0.259766\n",
      "Iteration-4, x2=0.562500 and f(x2)= 0.161865\n",
      "Iteration-5, x2=0.593750 and f(x2)= 0.054047\n",
      "Iteration-6, x2=0.578125 and f(x2)= 0.052624\n",
      "Iteration-7, x2=0.585938 and f(x2)= 0.001031\n",
      "Iteration-8, x2=0.582031 and f(x2)= 0.025716\n",
      "Iteration-9, x2=0.583984 and f(x2)= 0.012322\n",
      "Iteration-10, x2=0.584961 and f(x2)= 0.005640\n",
      "Iteration-11, x2=0.585449 and f(x2)= 0.002303\n",
      "Iteration-12, x2=0.585693 and f(x2)= 0.000636\n",
      "\n",
      "Required Root is 0.58569336\n"
     ]
    }
   ],
   "source": [
    "#REACTIVO 1#\n",
    "#Biseccion\n",
    "import matplotlib.pyplot as plt\n",
    "import numpy as np\n",
    "import matplotlib.pyplot as plt\n",
    "\n",
    "def f(x):\n",
    "    return x**3 - 7*x**2 +14*x - 6\n",
    "\n",
    "x0=input('First Guess: ')\n",
    "x1=input('Second Guess: ')\n",
    "e=input('error: ')\n",
    "\n",
    "x0=float(x0)\n",
    "x1=float(x1)\n",
    "e=float(e)\n",
    "\n",
    "def biseccion(x0,x1,e):\n",
    "    step=1   #Varuable para guardar numero de iteraciones#\n",
    "    print('\\n\\n***Implemetacion Biseccion***')\n",
    "    condition = True\n",
    "    while condition:\n",
    "        x2=(x0+x1)/2\n",
    "        print('Iteration-%d, x2=%0.6f and f(x2)= %0.6f' % (step, x2, abs(f(x2))))\n",
    "        \n",
    "        if f(x0) * f(x2) < 0:\n",
    "            x1=x2\n",
    "        else:\n",
    "            x0=x2\n",
    "            \n",
    "        step=step+1\n",
    "        condition = abs(f(x2))>e\n",
    "    print('\\nRequired Root is %0.8f' % x2)\n",
    "    \n",
    "#Revisar valores iniciales\n",
    "if f(x0) * f(x1)> 0.0:\n",
    "    print('Given guess values do not bracket the root.')\n",
    "    print('Try Again with different values.')\n",
    "else:\n",
    "    biseccion(x0,x1,e)"
   ]
  },
  {
   "cell_type": "code",
   "execution_count": 5,
   "id": "e8ecb019",
   "metadata": {},
   "outputs": [
    {
     "name": "stdout",
     "output_type": "stream",
     "text": [
      "['xi', 'xi+1', 'Error']\n",
      "[[2.0000e+00 2.2500e+00 2.5000e-01]\n",
      " [2.2500e+00 2.4044e+00 1.5439e-01]\n",
      " [2.4044e+00 2.5031e+00 9.8742e-02]\n",
      " [2.5031e+00 2.5673e+00 6.4129e-02]\n",
      " [2.5673e+00 2.6092e+00 4.1984e-02]\n",
      " [2.6092e+00 2.6369e+00 2.7612e-02]\n",
      " [2.6369e+00 2.6551e+00 1.8210e-02]\n",
      " [2.6551e+00 2.6671e+00 1.2030e-02]\n",
      " [2.6671e+00 2.6751e+00 7.9558e-03]\n",
      " [2.6751e+00 2.6803e+00 5.2652e-03]\n",
      " [2.6803e+00 2.6838e+00 3.4861e-03]\n",
      " [2.6838e+00 2.6861e+00 2.3089e-03]\n",
      " [2.6861e+00 2.6876e+00 1.5295e-03]\n",
      " [2.6876e+00 2.6887e+00 1.0133e-03]\n",
      " [2.6887e+00 2.6893e+00 6.7142e-04]]\n",
      "raiz en:  2.689328597546078\n",
      "con error de:  0.0006714185486140778\n"
     ]
    }
   ],
   "source": [
    "#REACTIVO 2#\n",
    "# Método de Newton-Raphson\n",
    "import numpy as np\n",
    "# INGRESO FUNCIONES\n",
    "fx  = lambda x: x**3 - 2*(x**2) - 5\n",
    "#INGRESO DERIVADA\n",
    "dfx = lambda x: 3*(x**2) + 4*x\n",
    "x0 = 2\n",
    "#ERROR\n",
    "tolera = 0.001\n",
    "# PROCEDIMIENTO\n",
    "tabla = []\n",
    "tramo = abs(2*tolera)\n",
    "xi = x0\n",
    "while (tramo>=tolera):\n",
    "    xnuevo = xi - fx(xi)/dfx(xi)\n",
    "    tramo  = abs(xnuevo-xi)\n",
    "    tabla.append([xi,xnuevo,tramo])\n",
    "    xi = xnuevo\n",
    "# convierte la lista a un arreglo.\n",
    "tabla = np.array(tabla)\n",
    "n = len(tabla)\n",
    "# SALIDA\n",
    "print(['xi', 'xi+1', 'Error'])\n",
    "np.set_printoptions(precision = 4)\n",
    "print(tabla)\n",
    "print('raiz en: ', xi)\n",
    "print('con error de: ',tramo)"
   ]
  },
  {
   "cell_type": "code",
   "execution_count": 6,
   "id": "a9b5a2f6",
   "metadata": {},
   "outputs": [
    {
     "data": {
      "image/png": "[encoded data removed]",
      "text/plain": [
       "<Figure size 432x288 with 1 Axes>"
      ]
     },
     "metadata": {
      "needs_background": "light"
     },
     "output_type": "display_data"
    }
   ],
   "source": [
    "#REACTIVO 3#\n",
    "#Graficar#\n",
    "import matplotlib.pyplot as plt\n",
    "import numpy as np\n",
    "x=np.linspace(0.1,5.0)\n",
    "y = 1/x\n",
    "y2 = 1/22*x**2 - 35/88*x +49/44\n",
    "plt.plot(x,y,'-r');\n",
    "plt.plot(x,y2,'-b');\n",
    "plt.legend(['1/x','polinomio Lagrange']);"
   ]
  },
  {
   "cell_type": "code",
   "execution_count": 1,
   "id": "253dff66",
   "metadata": {},
   "outputs": [
    {
     "data": {
      "image/png": "[encoded data removed]",
      "text/latex": [
       "$\\displaystyle 0.185714285714286 v{\\left(t \\right)} + \\frac{d}{d t} v{\\left(t \\right)} = 9.81$"
      ],
      "text/plain": [
       "                         d              \n",
       "0.185714285714286⋅v(t) + ──(v(t)) = 9.81\n",
       "                         dt             "
      ]
     },
     "metadata": {},
     "output_type": "display_data"
    },
    {
     "data": {
      "image/png": "[encoded data removed]",
      "text/latex": [
       "$\\displaystyle v{\\left(t \\right)} = C_{1} e^{- 0.185714285714286 t} + 52.8230769230769$"
      ],
      "text/plain": [
       "           -0.185714285714286⋅t                   \n",
       "v(t) = C₁⋅ℯ                     + 52.8230769230769"
      ]
     },
     "execution_count": 1,
     "metadata": {},
     "output_type": "execute_result"
    }
   ],
   "source": [
    "#REACTIVO 7#\n",
    "\n",
    "#Importar Librerias\n",
    "from sympy.interactive import printing\n",
    "printing.init_printing(use_latex=True)\n",
    "from sympy import *\n",
    "import sympy as sp\n",
    "#Inicializar variables\n",
    "m=70\n",
    "c=13\n",
    "g=9.81\n",
    "#Genera la variable simbolica t\n",
    "t=sp.symbols('t')\n",
    "#t, m, c, g=sp.symbols('t, m, c, g')  #Solucion general#\n",
    "v=sp.Function('v')(t)\n",
    "diffeq=Eq(v.diff(t)+(c/m)*v,g)  #Se da de alta la ecuacion differencial\n",
    "display(diffeq)\n",
    "dsolve(diffeq,v, hint='default', simplify=True)  #Resuelve la ecuacion de manera simplificada"
   ]
  },
  {
   "cell_type": "code",
   "execution_count": 7,
   "id": "db1fb000",
   "metadata": {},
   "outputs": [
    {
     "data": {
      "image/png": "[encoded data removed]",
      "text/plain": [
       "<Figure size 432x288 with 1 Axes>"
      ]
     },
     "metadata": {
      "needs_background": "light"
     },
     "output_type": "display_data"
    }
   ],
   "source": [
    "#REACTIVO 8\n",
    "#Metodo Grafico#\n",
    "import matplotlib.pyplot as plt\n",
    "import numpy as np\n",
    "t=np.linspace(0,100,50)\n",
    "m=70\n",
    "c=13\n",
    "g=9.81\n",
    "v1=(g*m)/(c)*(1-np.exp((-c/m)*t))\n",
    "plt.plot(t, v1, '--b')\n",
    "plt.title('Grafica velocidad paracaidista')\n",
    "plt.xlabel('tiempo')\n",
    "plt.ylabel('velocidad')\n",
    "plt.grid(True)"
   ]
  },
  {
   "cell_type": "code",
   "execution_count": 3,
   "id": "1ac0af1d",
   "metadata": {},
   "outputs": [
    {
     "data": {
      "text/plain": [
       "array([ 0.        , 19.62      , 31.95257143, 39.70447347, 44.57709761,\n",
       "       47.63988993, 49.56507367, 50.77518916, 51.53583319, 52.01395229,\n",
       "       52.3144843 , 52.50339013, 52.62213094, 52.69676802, 52.74368275,\n",
       "       52.77317202, 52.79170813, 52.80335939, 52.81068305, 52.81528649,\n",
       "       52.81818008, 52.81999891, 52.82114217, 52.82186079, 52.8223125 ,\n",
       "       52.82259643, 52.8227749 , 52.82288708, 52.82295759, 52.82300191,\n",
       "       52.82302978, 52.82304729, 52.82305829, 52.82306521, 52.82306956,\n",
       "       52.8230723 , 52.82307402, 52.8230751 , 52.82307577, 52.8230762 ,\n",
       "       52.82307647, 52.82307664, 52.82307674, 52.82307681, 52.82307685,\n",
       "       52.82307688, 52.8230769 , 52.82307691, 52.82307691, 52.82307692])"
      ]
     },
     "metadata": {},
     "output_type": "display_data"
    },
    {
     "data": {
      "image/png": "[encoded data removed]",
      "text/plain": [
       "<Figure size 432x288 with 1 Axes>"
      ]
     },
     "metadata": {
      "needs_background": "light"
     },
     "output_type": "display_data"
    }
   ],
   "source": [
    "#Reactivo 9#\n",
    "#Solucion aproximada METODO EULER\n",
    "import matplotlib.pyplot as plt\n",
    "import numpy as np\n",
    "va=0;\n",
    "t1=0;\n",
    "x=1;\n",
    "#datos = [0,0,0,0,0,0]\n",
    "datos = np.zeros(50);\n",
    "t2 = np.zeros(50);\n",
    "\n",
    "for t in range(0, 100,2):\n",
    "  vn=va+(9.81-(13/70)*va)*(t-t1);\n",
    "  datos[x-1] = vn;\n",
    "  t2[x-1] = t;\n",
    "  t1=t;\n",
    "  va=vn;\n",
    "  x=x+1;\n",
    "display(datos)\n",
    "#print(len(datos))\n",
    "#t1 = [0,2,4,6,8]\n",
    "#t2 = np.linspace(0,50,21)\n",
    "#print(t2)\n",
    "plt.plot(t2, datos,'-g')\n",
    "plt.title('Grafica velocidad paracaidista')\n",
    "plt.xlabel('tiempo')\n",
    "plt.ylabel('velocidad')\n",
    "plt.grid(True)"
   ]
  },
  {
   "cell_type": "code",
   "execution_count": 12,
   "id": "5ef324b1",
   "metadata": {},
   "outputs": [
    {
     "data": {
      "image/png": "[encoded data removed]",
      "text/plain": [
       "<Figure size 432x288 with 1 Axes>"
      ]
     },
     "metadata": {
      "needs_background": "light"
     },
     "output_type": "display_data"
    }
   ],
   "source": [
    "#Reactivo 10#\n",
    "#Comparacion de Graficos#\n",
    "#Metodo Grafico#\n",
    "import matplotlib.pyplot as plt\n",
    "import numpy as np\n",
    "t=np.linspace(0,100,50)\n",
    "m=70\n",
    "c=13\n",
    "g=9.81\n",
    "v1=(g*m)/(c)*(1-np.exp((-c/m)*t))\n",
    "plt.plot(t, v1, '--b')\n",
    "plt.title('Grafica velocidad paracaidista')\n",
    "plt.xlabel('tiempo')\n",
    "plt.ylabel('velocidad')\n",
    "plt.grid(True)\n",
    "\n",
    "#Solucion aproximada METODO EULER\n",
    "import matplotlib.pyplot as plt\n",
    "import numpy as np\n",
    "va=0;\n",
    "t1=0;\n",
    "x=1;\n",
    "#datos = [0,0,0,0,0,0]\n",
    "datos = np.zeros(50);\n",
    "t2 = np.zeros(50);\n",
    "\n",
    "for t in range(0, 100,2):\n",
    "  vn=va+(9.81-(13/70)*va)*(t-t1);\n",
    "  datos[x-1] = vn;\n",
    "  t2[x-1] = t;\n",
    "  t1=t;\n",
    "  va=vn;\n",
    "  x=x+1;\n",
    "#print(len(datos))\n",
    "#t1 = [0,2,4,6,8]\n",
    "#t2 = np.linspace(0,50,21)\n",
    "#print(t2)\n",
    "plt.plot(t2, datos,'-g')\n",
    "plt.title('Grafica velocidad paracaidista')\n",
    "plt.xlabel('tiempo')\n",
    "plt.ylabel('velocidad')\n",
    "plt.grid(True)"
   ]
  }
 ],
 "metadata": {
  "kernelspec": {
   "display_name": "Python 3 (ipykernel)",
   "language": "python",
   "name": "python3"
  },
  "language_info": {
   "codemirror_mode": {
    "name": "ipython",
    "version": 3
   },
   "file_extension": ".py",
   "mimetype": "text/x-python",
   "name": "python",
   "nbconvert_exporter": "python",
   "pygments_lexer": "ipython3",
   "version": "3.10.6"
  }
 },
 "nbformat": 4,
 "nbformat_minor": 5
}
